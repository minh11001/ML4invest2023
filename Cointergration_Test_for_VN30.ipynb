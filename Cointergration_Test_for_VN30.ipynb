{
  "nbformat": 4,
  "nbformat_minor": 0,
  "metadata": {
    "colab": {
      "provenance": []
    },
    "kernelspec": {
      "name": "python3",
      "display_name": "Python 3"
    },
    "language_info": {
      "name": "python"
    }
  },
  "cells": [
    {
      "cell_type": "markdown",
      "source": [
        "##Cointergration Test for VN30"
      ],
      "metadata": {
        "id": "3H0Mx_GpZEcE"
      }
    },
    {
      "cell_type": "code",
      "execution_count": 1,
      "metadata": {
        "colab": {
          "base_uri": "https://localhost:8080/"
        },
        "id": "ZahoQsETY-ox",
        "outputId": "e98372cf-a322-4374-d841-66e788f2a471"
      },
      "outputs": [
        {
          "output_type": "stream",
          "name": "stdout",
          "text": [
            "Looking in indexes: https://pypi.org/simple, https://us-python.pkg.dev/colab-wheels/public/simple/\n",
            "Collecting vnstock\n",
            "  Downloading vnstock-0.1.4-py3-none-any.whl (17 kB)\n",
            "Installing collected packages: vnstock\n",
            "Successfully installed vnstock-0.1.4\n"
          ]
        }
      ],
      "source": [
        "#@title Install and Set-up\n",
        "from statsmodels.tsa.stattools import coint\n",
        "!pip install vnstock\n",
        "from vnstock import *\n",
        "# prepair data\n",
        "stock_dict = {}\n",
        "vn30 = 'ACB,BCM,BID,BVH,CTG,FPT,GAS,GVR,HDB,HPG,MBB,MSN,MWG,NVL,PDR,PLX,POW,SAB,SSI,STB,TCB,TPB,VCB,VHM,VIB,VIC,VJC,VNM,VPB,VRE'.split(',')"
      ]
    },
    {
      "cell_type": "code",
      "source": [
        "#@title Test with VN30\n",
        "for item in vn30:\n",
        "  stock_dict[item] = stock_historical_data(symbol=item, start_date=\"2020-01-01\", end_date='2023-04-21')['Close'].to_numpy()\n",
        "\n",
        "coint_list = {}\n",
        "for a in vn30:\n",
        "  for b in vn30:\n",
        "    if a!=b:\n",
        "      if len(stock_dict[a])==len(stock_dict[b]): pos = 0\n",
        "      else: pos = -min(len(stock_dict[a]), len(stock_dict[b]))\n",
        "      coint_t, p_value, crit_value = coint(stock_dict[a][pos:], stock_dict[b][pos:])\n",
        "      if p_value < 0.05:\n",
        "        if a not in coint_list.keys(): coint_list[a] = [b]\n",
        "        else: coint_list[a].append(b)\n",
        "\n",
        "coint_list"
      ],
      "metadata": {
        "colab": {
          "base_uri": "https://localhost:8080/"
        },
        "id": "9s6mJ5WzZJY4",
        "outputId": "8c1a340e-8e64-4dc5-9c36-0cb7bb228556"
      },
      "execution_count": 2,
      "outputs": [
        {
          "output_type": "execute_result",
          "data": {
            "text/plain": [
              "{'BID': ['VCB'],\n",
              " 'BVH': ['ACB',\n",
              "  'BCM',\n",
              "  'CTG',\n",
              "  'FPT',\n",
              "  'GAS',\n",
              "  'GVR',\n",
              "  'HDB',\n",
              "  'HPG',\n",
              "  'MBB',\n",
              "  'MSN',\n",
              "  'MWG',\n",
              "  'NVL',\n",
              "  'PDR',\n",
              "  'PLX',\n",
              "  'POW',\n",
              "  'SSI',\n",
              "  'STB',\n",
              "  'TCB',\n",
              "  'TPB',\n",
              "  'VCB',\n",
              "  'VHM',\n",
              "  'VIB',\n",
              "  'VIC',\n",
              "  'VJC',\n",
              "  'VNM',\n",
              "  'VPB',\n",
              "  'VRE'],\n",
              " 'CTG': ['BVH', 'VIB'],\n",
              " 'FPT': ['GAS'],\n",
              " 'GAS': ['BCM', 'FPT', 'MSN'],\n",
              " 'GVR': ['BVH', 'TCB', 'VJC'],\n",
              " 'HDB': ['VIB', 'VPB'],\n",
              " 'HPG': ['TCB'],\n",
              " 'MBB': ['MSN'],\n",
              " 'MSN': ['MBB', 'MWG'],\n",
              " 'MWG': ['MSN'],\n",
              " 'POW': ['TPB'],\n",
              " 'SAB': ['ACB',\n",
              "  'BCM',\n",
              "  'BID',\n",
              "  'CTG',\n",
              "  'FPT',\n",
              "  'GAS',\n",
              "  'GVR',\n",
              "  'HDB',\n",
              "  'HPG',\n",
              "  'MBB',\n",
              "  'MSN',\n",
              "  'MWG',\n",
              "  'NVL',\n",
              "  'PDR',\n",
              "  'PLX',\n",
              "  'POW',\n",
              "  'SSI',\n",
              "  'STB',\n",
              "  'TCB',\n",
              "  'TPB',\n",
              "  'VCB',\n",
              "  'VHM',\n",
              "  'VIB',\n",
              "  'VIC',\n",
              "  'VJC',\n",
              "  'VNM',\n",
              "  'VPB'],\n",
              " 'STB': ['VPB'],\n",
              " 'TCB': ['GVR', 'HPG'],\n",
              " 'VCB': ['BCM'],\n",
              " 'VIB': ['CTG', 'HDB'],\n",
              " 'VJC': ['BVH', 'GVR', 'HPG', 'MWG', 'NVL', 'PDR', 'TCB', 'TPB', 'VHM'],\n",
              " 'VRE': ['ACB',\n",
              "  'BCM',\n",
              "  'BID',\n",
              "  'BVH',\n",
              "  'CTG',\n",
              "  'FPT',\n",
              "  'GAS',\n",
              "  'GVR',\n",
              "  'HDB',\n",
              "  'HPG',\n",
              "  'MBB',\n",
              "  'MSN',\n",
              "  'MWG',\n",
              "  'NVL',\n",
              "  'PDR',\n",
              "  'PLX',\n",
              "  'POW',\n",
              "  'SAB',\n",
              "  'SSI',\n",
              "  'STB',\n",
              "  'TCB',\n",
              "  'TPB',\n",
              "  'VCB',\n",
              "  'VHM',\n",
              "  'VIB',\n",
              "  'VIC',\n",
              "  'VJC',\n",
              "  'VNM',\n",
              "  'VPB']}"
            ]
          },
          "metadata": {},
          "execution_count": 2
        }
      ]
    }
  ]
}